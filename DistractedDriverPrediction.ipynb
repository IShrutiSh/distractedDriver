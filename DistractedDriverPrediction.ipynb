{
 "cells": [
  {
   "cell_type": "code",
   "execution_count": 1,
   "id": "8d782cae-ac1e-44ca-9c98-a5028d118691",
   "metadata": {},
   "outputs": [
    {
     "name": "stderr",
     "output_type": "stream",
     "text": [
      "C:\\Users\\hp\\anaconda3\\Lib\\site-packages\\keras\\src\\saving\\saving_lib.py:757: UserWarning: Skipping variable loading for optimizer 'rmsprop', because it has 22 variables whereas the saved optimizer has 42 variables. \n",
      "  saveable.load_own_variables(weights_store.get(inner_path))\n",
      "Processing Images: 100%|██████████| 79726/79726 [1:58:00<00:00, 11.26it/s]  \n"
     ]
    },
    {
     "name": "stdout",
     "output_type": "stream",
     "text": [
      "✅ Submission file 'submission.csv' is ready!\n"
     ]
    }
   ],
   "source": [
    "import numpy as np\n",
    "import pandas as pd\n",
    "import tensorflow as tf\n",
    "import os\n",
    "from tensorflow.keras.preprocessing import image\n",
    "from tqdm import tqdm\n",
    "\n",
    "\n",
    "model = tf.keras.models.load_model(\"driver_distraction_model.keras\")\n",
    "\n",
    "\n",
    "test_dir = r\"C:\\Users\\hp\\Desktop\\IITK AI & ML\\AI\\Project4\\state-farm-distracted-driver-detection\\imgs\\test\"\n",
    "\n",
    "\n",
    "IMG_SIZE = (224, 224)  \n",
    "\n",
    "\n",
    "test_images = [f for f in os.listdir(test_dir) if f.endswith((\".jpg\", \".png\", \".jpeg\"))]\n",
    "\n",
    "\n",
    "image_filenames = []\n",
    "all_predictions = []\n",
    "\n",
    "\n",
    "for img_name in tqdm(test_images, desc=\"Processing Images\"):\n",
    "    img_path = os.path.join(test_dir, img_name)\n",
    "\n",
    "   \n",
    "    img = image.load_img(img_path, target_size=IMG_SIZE)\n",
    "    img_array = image.img_to_array(img) / 255.0  \n",
    "    img_array = np.expand_dims(img_array, axis=0)  \n",
    "\n",
    "    \n",
    "    predictions = model.predict(img_array, verbose=0)[0]  \n",
    "\n",
    "  \n",
    "    image_filenames.append(img_name)\n",
    "    all_predictions.append(predictions)\n",
    "\n",
    "\n",
    "submission_df = pd.DataFrame(all_predictions, columns=[f\"c{i}\" for i in range(10)])\n",
    "submission_df.insert(0, \"img\", image_filenames) \n",
    "\n",
    "\n",
    "submission_df.to_csv(\"submission.csv\", index=False)\n",
    "print(\"✅ Submission file 'submission.csv' is ready!\")\n"
   ]
  },
  {
   "cell_type": "code",
   "execution_count": null,
   "id": "2c3245b3-ee93-4d40-bb44-4ce2e9d85b44",
   "metadata": {},
   "outputs": [],
   "source": []
  }
 ],
 "metadata": {
  "kernelspec": {
   "display_name": "Python 3 (ipykernel)",
   "language": "python",
   "name": "python3"
  },
  "language_info": {
   "codemirror_mode": {
    "name": "ipython",
    "version": 3
   },
   "file_extension": ".py",
   "mimetype": "text/x-python",
   "name": "python",
   "nbconvert_exporter": "python",
   "pygments_lexer": "ipython3",
   "version": "3.11.7"
  }
 },
 "nbformat": 4,
 "nbformat_minor": 5
}
